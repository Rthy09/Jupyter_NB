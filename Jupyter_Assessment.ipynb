{
  "metadata": {
    "kernelspec": {
      "name": "python",
      "display_name": "Python (Pyodide)",
      "language": "python"
    },
    "language_info": {
      "codemirror_mode": {
        "name": "python",
        "version": 3
      },
      "file_extension": ".py",
      "mimetype": "text/x-python",
      "name": "python",
      "nbconvert_exporter": "python",
      "pygments_lexer": "ipython3",
      "version": "3.8"
    }
  },
  "nbformat_minor": 4,
  "nbformat": 4,
  "cells": [
    {
      "cell_type": "markdown",
      "source": " # My First Notebook Assessment",
      "metadata": {}
    },
    {
      "cell_type": "markdown",
      "source": "My First assessment on Jupyter notebook learning using Markdown feature which is one of the major tool used for Data science",
      "metadata": {}
    },
    {
      "cell_type": "markdown",
      "source": "# List of Data science Languages\n- Python \n- R\n- SQL\n#### Other languages used are as follows,\n* Scala\n* Java\n* C++\n* Julia ",
      "metadata": {
        "scrolled": true
      }
    },
    {
      "cell_type": "markdown",
      "source": "# List of Data science Libraries\n  > Scientific Computing Libraries \n- Pandas\n- NumPy\n>Visualization Libraries\n+ Matplotlib\n+ Seaborn\n>Deep Learning Libraries\n* TensorFlow\n* PyTorch",
      "metadata": {}
    },
    {
      "cell_type": "raw",
      "source": "Table Display",
      "metadata": {}
    },
    {
      "cell_type": "markdown",
      "source": " DataScience Tools |\n -------------|\n RStudio  |\n GitHub |",
      "metadata": {}
    },
    {
      "cell_type": "markdown",
      "source": "# Arithmetic expression examples\n#### Addition operation\n2+2\n#### Multiplication operation\n2.5*3.5",
      "metadata": {}
    },
    {
      "cell_type": "code",
      "source": "(20+15)*4",
      "metadata": {
        "trusted": true
      },
      "outputs": [
        {
          "execution_count": 11,
          "output_type": "execute_result",
          "data": {
            "text/plain": "140"
          },
          "metadata": {}
        }
      ],
      "execution_count": 11
    },
    {
      "cell_type": "code",
      "source": "###Convert minutes to hours 30 mins = 0.5 hrs\n30/60",
      "metadata": {
        "trusted": true
      },
      "outputs": [
        {
          "execution_count": 10,
          "output_type": "execute_result",
          "data": {
            "text/plain": "0.5"
          },
          "metadata": {}
        }
      ],
      "execution_count": 10
    },
    {
      "cell_type": "markdown",
      "source": "# Objectives \n#### After this lab assessment, I will be able to:\n\n+ Explore Jupyter notebook\n+ Rename Notebook\n+ Work on Markdown feature\n+ Create a Code cell\n+ Save and download the notebook\n+ Upload the downloaded notebook",
      "metadata": {}
    },
    {
      "cell_type": "markdown",
      "source": "## Assessment by\n# Aarthy",
      "metadata": {}
    }
  ]
}